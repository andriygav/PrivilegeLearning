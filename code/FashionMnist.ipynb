{
 "cells": [
  {
   "cell_type": "code",
   "execution_count": null,
   "metadata": {},
   "outputs": [],
   "source": [
    "from torchvision import datasets\n",
    "\n",
    "from torch.utils.data import TensorDataset\n",
    "from torch.utils.data import DataLoader\n",
    "import matplotlib.pyplot as plt \n",
    "\n",
    "import numpy as np\n",
    "import torch\n",
    "import pickle"
   ]
  },
  {
   "cell_type": "code",
   "execution_count": null,
   "metadata": {},
   "outputs": [],
   "source": [
    "import matplotlib.pyplot as plt\n",
    "from matplotlib import gridspec\n",
    "from mpl_toolkits.mplot3d import Axes3D\n",
    "\n",
    "import matplotlib.ticker as ticker\n",
    "import locale\n",
    "\n",
    "locale.setlocale(locale.LC_ALL, 'de_DE')\n",
    "\n",
    "plt.rcParams[\"font.family\"] = 'Djvu Serif'\n",
    "\n",
    "plt.rcParams['text.usetex'] = True\n",
    "\n",
    "plt.rcParams['text.latex.unicode'] = True\n",
    "\n",
    "plt.rcParams['text.latex.preamble'] = [r'\\usepackage[utf8x]{inputenc}', \n",
    "                                       r'\\usepackage[english,russian]{babel}', \n",
    "                                       r'\\usepackage{amsmath}']\n",
    "\n",
    "plt.rcParams['lines.linewidth'] = 3\n",
    "plt.rcParams['lines.markersize'] = 6\n",
    "plt.rcParams['xtick.labelsize'] = 36\n",
    "plt.rcParams['ytick.labelsize'] = 36\n",
    "plt.rcParams['legend.fontsize'] = 36\n",
    "plt.rcParams['axes.titlesize']=36\n",
    "plt.rcParams['axes.labelsize']=36\n",
    "plt.rcParams['figure.figsize'] = (24.0, 12.0)\n",
    "plt.rcParams['font.size'] = 40\n",
    "\n",
    "plt.rcParams['axes.formatter.use_locale'] = True"
   ]
  },
  {
   "cell_type": "code",
   "execution_count": null,
   "metadata": {},
   "outputs": [],
   "source": [
    "from src.fashion_mnist import (train_student_without_teacher, \n",
    "                               train_teacher, \n",
    "                               train_student_with_teacher, \n",
    "                               Student, \n",
    "                               Teacher)"
   ]
  },
  {
   "cell_type": "markdown",
   "metadata": {},
   "source": [
    "# Загрузка датасета"
   ]
  },
  {
   "cell_type": "code",
   "execution_count": null,
   "metadata": {},
   "outputs": [],
   "source": [
    "MNIST = datasets.FashionMNIST('../data/', train=True, download=True, transform=None)\n",
    "train_data_cnn = TensorDataset(MNIST.data.view(-1, 1, 28, 28).float() / 255, MNIST.targets)\n",
    "train_data = TensorDataset(MNIST.data.view(-1, 28 * 28).float() / 255, MNIST.targets)\n",
    "\n",
    "MNIST = datasets.FashionMNIST('../data/', train=False, download=True, transform=None)\n",
    "test_data_cnn = TensorDataset(MNIST.data.view(-1, 1, 28, 28).float() / 255, MNIST.targets)\n",
    "test_data = TensorDataset(MNIST.data.view(-1, 28 * 28).float() / 255, MNIST.targets)"
   ]
  },
  {
   "cell_type": "markdown",
   "metadata": {},
   "source": [
    "# Модель без учителя"
   ]
  },
  {
   "cell_type": "code",
   "execution_count": null,
   "metadata": {},
   "outputs": [],
   "source": [
    "# DICT = train_student_without_teacher(train_data, test_data)\n"
   ]
  },
  {
   "cell_type": "code",
   "execution_count": null,
   "metadata": {},
   "outputs": [],
   "source": [
    "# with open('../dumps/fashion_mnist/train_student_without_teacher.pkl', 'wb') as f:\n",
    "#     pickle.dump(DICT, f)"
   ]
  },
  {
   "cell_type": "code",
   "execution_count": null,
   "metadata": {},
   "outputs": [],
   "source": [
    "with open('../dumps/fashion_mnist/train_student_without_teacher.pkl', 'rb') as f:\n",
    "    DICT = pickle.load(f)"
   ]
  },
  {
   "cell_type": "code",
   "execution_count": null,
   "metadata": {},
   "outputs": [],
   "source": [
    "list_of_student_models = DICT['list_of_student_models']\n",
    "list_of_losses_train = DICT['list_of_losses_train']\n",
    "list_of_losses_test = DICT['list_of_losses_test']\n",
    "list_of_acc_train = DICT['list_of_acc_train']\n",
    "list_of_acc_test = DICT['list_of_acc_test']"
   ]
  },
  {
   "cell_type": "code",
   "execution_count": null,
   "metadata": {},
   "outputs": [],
   "source": [
    "mean = np.array(list_of_losses_train).mean(0)\n",
    "std = np.array(list_of_losses_train).std(0)\n",
    "x_axis = np.arange(0, len(mean))\n",
    "\n",
    "plt.plot(x_axis, mean, color = 'blue', label = 'train')\n",
    "plt.fill_between(x_axis, mean - std, mean + std, alpha = 0.3, color = 'blue')\n",
    "\n",
    "\n",
    "mean = np.array(list_of_losses_test).mean(0)\n",
    "std = np.array(list_of_losses_test).std(0)\n",
    "x_axis = np.arange(0, len(mean))\n",
    "\n",
    "plt.plot(x_axis, mean, color = 'green', label = 'test')\n",
    "plt.fill_between(x_axis, mean - std, mean + std, alpha = 0.3, color = 'green')\n",
    "\n",
    "\n",
    "plt.grid()\n",
    "plt.legend(loc='best')\n",
    "plt.show()"
   ]
  },
  {
   "cell_type": "code",
   "execution_count": null,
   "metadata": {},
   "outputs": [],
   "source": [
    "mean = np.array(list_of_acc_train).mean(0)\n",
    "std = np.array(list_of_acc_train).std(0)\n",
    "x_axis = np.arange(0, len(mean))\n",
    "\n",
    "plt.plot(x_axis, mean, color = 'blue', label = 'train')\n",
    "plt.fill_between(x_axis, mean - std, mean + std, alpha = 0.3, color = 'blue')\n",
    "\n",
    "\n",
    "mean = np.array(list_of_acc_test).mean(0)\n",
    "std = np.array(list_of_acc_test).std(0)\n",
    "x_axis = np.arange(0, len(mean))\n",
    "\n",
    "plt.plot(x_axis, mean, color = 'green', label = 'test')\n",
    "plt.fill_between(x_axis, mean - std, mean + std, alpha = 0.3, color = 'green')\n",
    "\n",
    "\n",
    "plt.grid()\n",
    "plt.legend(loc='best')\n",
    "plt.show()"
   ]
  },
  {
   "cell_type": "code",
   "execution_count": null,
   "metadata": {},
   "outputs": [],
   "source": [
    "student = DICT['list_of_student_models'][-1]\n",
    "\n",
    "testloader = DataLoader(test_data, batch_size=64, shuffle=False)\n",
    "predicts = []\n",
    "for x, y in testloader:\n",
    "    predict = torch.softmax(student(x), -1).detach().numpy()\n",
    "    predicts += predict.tolist()\n",
    "    \n",
    "predict = np.array(predicts)\n",
    "print('CrossEntropyLoss', np.array(list_of_losses_test).mean(0)[-1], np.array(list_of_losses_test).std(0)[-1])\n",
    "print('Accuracy', np.array(list_of_acc_test).mean(0)[-1], np.array(list_of_acc_test).std(0)[-1])\n",
    "print('MAX-MIN', (predict.max(-1) - predict.min(-1)).mean(), (predict.max(-1) - predict.min(-1)).std()) "
   ]
  },
  {
   "cell_type": "markdown",
   "metadata": {},
   "source": [
    "# Модель с учителем"
   ]
  },
  {
   "cell_type": "code",
   "execution_count": null,
   "metadata": {},
   "outputs": [],
   "source": [
    "# teacher = train_teacher(train_data_cnn, test_data_cnn)['model']"
   ]
  },
  {
   "cell_type": "code",
   "execution_count": null,
   "metadata": {},
   "outputs": [],
   "source": [
    "# with open('../dumps/fashion_mnist/teacher.pkl', 'wb') as f:\n",
    "#     pickle.dump(teacher, f)"
   ]
  },
  {
   "cell_type": "code",
   "execution_count": null,
   "metadata": {},
   "outputs": [],
   "source": [
    "with open('../dumps/fashion_mnist/teacher.pkl', 'rb') as f:\n",
    "    teacher = pickle.load(f)"
   ]
  },
  {
   "cell_type": "code",
   "execution_count": null,
   "metadata": {},
   "outputs": [],
   "source": [
    "# DICT = train_student_with_teacher(teacher, train_data, test_data, train_data_cnn, test_data_cnn, epochs=100, meaning=5, T=2,lamb=0.25)\n"
   ]
  },
  {
   "cell_type": "code",
   "execution_count": null,
   "metadata": {},
   "outputs": [],
   "source": [
    "# with open('../dumps/fashion_mnist/train_student_with_teacher.pkl', 'wb') as f:\n",
    "#     pickle.dump(DICT, f)"
   ]
  },
  {
   "cell_type": "code",
   "execution_count": null,
   "metadata": {},
   "outputs": [],
   "source": [
    "with open('../dumps/fashion_mnist/train_student_with_teacher.pkl', 'rb') as f:\n",
    "    DICT = pickle.load(f)"
   ]
  },
  {
   "cell_type": "code",
   "execution_count": null,
   "metadata": {},
   "outputs": [],
   "source": [
    "list_of_student_models_dist = DICT['list_of_student_models_dist']\n",
    "list_of_losses_train_dist = DICT['list_of_losses_train_dist']\n",
    "list_of_losses_test_dist = DICT['list_of_losses_test_dist']\n",
    "list_of_acc_train_dist = DICT['list_of_acc_train_dist']\n",
    "list_of_acc_test_dist = DICT['list_of_acc_test_dist']"
   ]
  },
  {
   "cell_type": "code",
   "execution_count": null,
   "metadata": {},
   "outputs": [],
   "source": [
    "mean = np.array(list_of_losses_train_dist).mean(0)\n",
    "std = np.array(list_of_losses_train_dist).std(0)\n",
    "x_axis = np.arange(0, len(mean))\n",
    "\n",
    "plt.plot(x_axis, mean, color = 'blue', label = 'train')\n",
    "plt.fill_between(x_axis, mean - std, mean + std, alpha = 0.3, color = 'blue')\n",
    "\n",
    "\n",
    "mean = np.array(list_of_losses_test_dist).mean(0)\n",
    "std = np.array(list_of_losses_test_dist).std(0)\n",
    "x_axis = np.arange(0, len(mean))\n",
    "\n",
    "plt.plot(x_axis, mean, color = 'green', label = 'test')\n",
    "plt.fill_between(x_axis, mean - std, mean + std, alpha = 0.3, color = 'green')\n",
    "\n",
    "\n",
    "plt.grid()\n",
    "plt.legend(loc='best')\n",
    "plt.show()"
   ]
  },
  {
   "cell_type": "code",
   "execution_count": null,
   "metadata": {},
   "outputs": [],
   "source": [
    "mean = np.array(list_of_acc_train_dist).mean(0)\n",
    "std = np.array(list_of_acc_train_dist).std(0)\n",
    "x_axis = np.arange(1, len(mean)+1)\n",
    "\n",
    "plt.plot(x_axis, mean, color = 'blue', label = 'train')\n",
    "plt.fill_between(x_axis, mean - std, mean + std, alpha = 0.3, color = 'blue')\n",
    "\n",
    "\n",
    "mean = np.array(list_of_acc_test_dist).mean(0)\n",
    "std = np.array(list_of_acc_test_dist).std(0)\n",
    "x_axis = np.arange(1, len(mean)+1)\n",
    "\n",
    "plt.plot(x_axis, mean, color = 'green', label = 'test')\n",
    "plt.fill_between(x_axis, mean - std, mean + std, alpha = 0.3, color = 'green')\n",
    "\n",
    "\n",
    "plt.grid()\n",
    "plt.legend(loc='best')\n",
    "plt.show()"
   ]
  },
  {
   "cell_type": "code",
   "execution_count": null,
   "metadata": {},
   "outputs": [],
   "source": [
    "mean = np.array(list_of_acc_test).mean(0)\n",
    "std = np.array(list_of_acc_test).std(0)\n",
    "x_axis = np.arange(1, len(mean)+1)\n",
    "\n",
    "plt.plot(x_axis, mean, color = 'blue', label = 'without dist')\n",
    "plt.fill_between(x_axis, mean - std, mean + std, alpha = 0.3, color = 'blue')\n",
    "\n",
    "\n",
    "\n",
    "mean = np.array(list_of_acc_test_dist).mean(0)\n",
    "std = np.array(list_of_acc_test_dist).std(0)\n",
    "x_axis = np.arange(1, len(mean)+1)\n",
    "\n",
    "plt.plot(x_axis, mean, color = 'green', label = 'with dist')\n",
    "plt.fill_between(x_axis, mean - std, mean + std, alpha = 0.3, color = 'green')\n",
    "\n",
    "\n",
    "plt.grid()\n",
    "plt.legend(loc='best')\n",
    "plt.show()"
   ]
  },
  {
   "cell_type": "code",
   "execution_count": null,
   "metadata": {},
   "outputs": [],
   "source": [
    "mean = np.array(list_of_losses_train).mean(0)\n",
    "std = np.array(list_of_losses_train).std(0)\n",
    "x_axis = np.arange(1, len(mean)+1)\n",
    "\n",
    "plt.plot(x_axis, mean, color = 'blue', label = 'without dist')\n",
    "plt.fill_between(x_axis, mean - std, mean + std, alpha = 0.3, color = 'blue')\n",
    "\n",
    "\n",
    "\n",
    "mean = np.array(list_of_losses_train_dist).mean(0)\n",
    "std = np.array(list_of_losses_train_dist).std(0)\n",
    "x_axis = np.arange(1, len(mean)+1)\n",
    "\n",
    "plt.plot(x_axis, mean, color = 'green', label = 'with dist')\n",
    "plt.fill_between(x_axis, mean - std, mean + std, alpha = 0.3, color = 'green')\n",
    "\n",
    "\n",
    "plt.grid()\n",
    "plt.legend(loc='best')\n",
    "plt.show()"
   ]
  },
  {
   "cell_type": "code",
   "execution_count": null,
   "metadata": {},
   "outputs": [],
   "source": [
    "mean = np.array(list_of_losses_test).mean(0)\n",
    "std = np.array(list_of_losses_test).std(0)\n",
    "x_axis = np.arange(1, len(mean)+1)\n",
    "\n",
    "plt.plot(x_axis, mean, color = 'blue', label = 'student without teacher')\n",
    "plt.fill_between(x_axis, mean - std, mean + std, alpha = 0.3, color = 'blue')\n",
    "\n",
    "\n",
    "\n",
    "mean = np.array(list_of_losses_test_dist).mean(0)\n",
    "std = np.array(list_of_losses_test_dist).std(0)\n",
    "x_axis = np.arange(1, len(mean)+1)\n",
    "\n",
    "plt.plot(x_axis, mean, color = 'green', label = 'student with teacher')\n",
    "plt.fill_between(x_axis, mean - std, mean + std, alpha = 0.3, color = 'green')\n",
    "\n",
    "plt.xlabel('epoch')\n",
    "plt.ylabel('CrossEntropyLoss')\n",
    "\n",
    "plt.grid()\n",
    "plt.legend(loc='best')\n",
    "plt.show()"
   ]
  },
  {
   "cell_type": "code",
   "execution_count": null,
   "metadata": {},
   "outputs": [],
   "source": [
    "Text_size = 18\n",
    "\n",
    "plt.rcParams['lines.linewidth'] = 1\n",
    "plt.rcParams['lines.markersize'] = 4\n",
    "plt.rcParams['xtick.labelsize'] = Text_size\n",
    "plt.rcParams['ytick.labelsize'] = Text_size\n",
    "plt.rcParams['legend.fontsize'] = Text_size\n",
    "plt.rcParams['axes.titlesize']=Text_size\n",
    "plt.rcParams['axes.labelsize']=Text_size\n",
    "plt.rcParams['figure.figsize'] = (16, 4)\n",
    "plt.rcParams['font.size'] = Text_size\n",
    "plt.rcParams[\"legend.labelspacing\"] = 0.1\n",
    "plt.rcParams[\"legend.handletextpad\"] = 0.1\n",
    "####################################################\n",
    "\n",
    "fig = plt.figure()\n",
    "\n",
    "gs = gridspec.GridSpec(1, 2, width_ratios=[1, 1])\n",
    "\n",
    "ax = []\n",
    "for i in range(2):\n",
    "    ax.append(fig.add_subplot(gs[i]))\n",
    "    ax[i].xaxis.set_major_formatter(ticker.StrMethodFormatter('{x:.3n}'))\n",
    "    ax[i].yaxis.set_major_formatter(ticker.StrMethodFormatter('{x:.2n}'))\n",
    "    \n",
    "# Train part\n",
    "mean = np.array(list_of_losses_train).mean(0)\n",
    "std = np.array(list_of_losses_train).std(0)\n",
    "x_axis = np.arange(1, len(mean)+1)\n",
    "\n",
    "ax[0].plot(x_axis, mean, '--',color = 'gray', label = 'студент без учителя')\n",
    "# ax[0].fill_between(x_axis, mean - std, mean + std, alpha = 0.3, color = 'blue')\n",
    "\n",
    "\n",
    "mean = np.array(list_of_losses_train_dist).mean(0)\n",
    "std = np.array(list_of_losses_train_dist).std(0)\n",
    "x_axis = np.arange(1, len(mean)+1)\n",
    "\n",
    "ax[0].plot(x_axis, mean, color = 'black', label = 'студент с учителем')\n",
    "# ax[0].fill_between(x_axis, mean - std, mean + std, alpha = 0.3, color = 'green')\n",
    "\n",
    "\n",
    "ax[0].set_title('(а)', y=-0.3)\n",
    "ax[0].set_xlabel('Итерации')\n",
    "ax[0].set_ylabel('Кросс-Энтропия')\n",
    "\n",
    "ax[0].grid()\n",
    "ax[0].legend(loc='best')\n",
    "\n",
    "# Test part\n",
    "mean = np.array(list_of_losses_test).mean(0)\n",
    "std = np.array(list_of_losses_test).std(0)\n",
    "x_axis = np.arange(1, len(mean)+1)\n",
    "\n",
    "ax[1].plot(x_axis, mean, '--', color = 'gray', label = 'студент без учителя')\n",
    "ax[1].fill_between(x_axis, mean - std, mean + std, alpha = 0.3, color = 'gray')\n",
    "\n",
    "mean = np.array(list_of_losses_test_dist).mean(0)\n",
    "std = np.array(list_of_losses_test_dist).std(0)\n",
    "x_axis = np.arange(1, len(mean)+1)\n",
    "\n",
    "ax[1].plot(x_axis, mean, color = 'black', label = 'студент с учителем')\n",
    "ax[1].fill_between(x_axis, mean - std, mean + std, alpha = 0.3, color = 'black')\n",
    "\n",
    "ax[1].set_title('(б)', y=-0.3)\n",
    "ax[1].set_xlabel('Итерации')\n",
    "ax[1].set_ylabel('Кросс-Энтропия')\n",
    "\n",
    "ax[1].grid()\n",
    "ax[1].legend(loc='best')\n",
    "\n",
    "plt.savefig('mnist_loss.png', bbox_inches='tight')\n",
    "plt.show()"
   ]
  },
  {
   "cell_type": "code",
   "execution_count": null,
   "metadata": {},
   "outputs": [],
   "source": [
    "student = list_of_student_models_dist[-1]\n",
    "\n",
    "testloader = DataLoader(test_data, batch_size=64, shuffle=False)\n",
    "predicts = []\n",
    "for x, y in testloader:\n",
    "    predict = torch.softmax(student(x), -1).detach().numpy()\n",
    "    predicts += predict.tolist()\n",
    "    \n",
    "predict = np.array(predicts)\n",
    "print('CrossEntropyLoss', np.array(list_of_losses_test_dist).mean(0)[-1], np.array(list_of_losses_test_dist).std(0)[-1])\n",
    "print('Accuracy', np.array(list_of_acc_test_dist).mean(0)[-1], np.array(list_of_acc_test_dist).std(0)[-1])\n",
    "print('MAX-MIN', (predict.max(-1) - predict.min(-1)).mean(), (predict.max(-1) - predict.min(-1)).std()) \n"
   ]
  }
 ],
 "metadata": {
  "kernelspec": {
   "display_name": "Python 3",
   "language": "python",
   "name": "python3"
  },
  "language_info": {
   "codemirror_mode": {
    "name": "ipython",
    "version": 3
   },
   "file_extension": ".py",
   "mimetype": "text/x-python",
   "name": "python",
   "nbconvert_exporter": "python",
   "pygments_lexer": "ipython3",
   "version": "3.7.3"
  }
 },
 "nbformat": 4,
 "nbformat_minor": 4
}
